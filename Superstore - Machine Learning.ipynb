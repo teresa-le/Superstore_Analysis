{
 "cells": [
  {
   "cell_type": "code",
   "execution_count": 4,
   "id": "2e6cd582",
   "metadata": {},
   "outputs": [],
   "source": [
    "# Import the modules\n",
    "import pandas as pd\n",
    "from mlxtend.frequent_patterns import apriori, association_rules"
   ]
  },
  {
   "cell_type": "code",
   "execution_count": 11,
   "id": "e78b0c78",
   "metadata": {},
   "outputs": [],
   "source": [
    "# Import the data \n",
    "data = pd.read_csv('superstore_clean.csv')"
   ]
  },
  {
   "cell_type": "code",
   "execution_count": 13,
   "id": "b7885fa0",
   "metadata": {},
   "outputs": [
    {
     "name": "stdout",
     "output_type": "stream",
     "text": [
      "      Row ID        Order ID  Order Date   Ship Date       Ship Mode  \\\n",
      "0          1  CA-2016-152156  2016-11-08  2016-11-11    Second Class   \n",
      "1          2  CA-2016-152156  2016-11-08  2016-11-11    Second Class   \n",
      "2          3  CA-2016-138688  2016-06-12  2016-06-16    Second Class   \n",
      "3          4  US-2015-108966  2015-10-11  2015-10-18  Standard Class   \n",
      "4          5  US-2015-108966  2015-10-11  2015-10-18  Standard Class   \n",
      "...      ...             ...         ...         ...             ...   \n",
      "9989    9990  CA-2014-110422  2014-01-21  2014-01-23    Second Class   \n",
      "9990    9991  CA-2017-121258  2017-02-26  2017-03-03  Standard Class   \n",
      "9991    9992  CA-2017-121258  2017-02-26  2017-03-03  Standard Class   \n",
      "9992    9993  CA-2017-121258  2017-02-26  2017-03-03  Standard Class   \n",
      "9993    9994  CA-2017-119914  2017-05-04  2017-05-09    Second Class   \n",
      "\n",
      "     Customer ID     Customer Name    Segment        Country             City  \\\n",
      "0       CG-12520       Claire Gute   Consumer  United States        Henderson   \n",
      "1       CG-12520       Claire Gute   Consumer  United States        Henderson   \n",
      "2       DV-13045   Darrin Van Huff  Corporate  United States      Los Angeles   \n",
      "3       SO-20335    Sean O'Donnell   Consumer  United States  Fort Lauderdale   \n",
      "4       SO-20335    Sean O'Donnell   Consumer  United States  Fort Lauderdale   \n",
      "...          ...               ...        ...            ...              ...   \n",
      "9989    TB-21400  Tom Boeckenhauer   Consumer  United States            Miami   \n",
      "9990    DB-13060       Dave Brooks   Consumer  United States       Costa Mesa   \n",
      "9991    DB-13060       Dave Brooks   Consumer  United States       Costa Mesa   \n",
      "9992    DB-13060       Dave Brooks   Consumer  United States       Costa Mesa   \n",
      "9993    CC-12220      Chris Cortes   Consumer  United States      Westminster   \n",
      "\n",
      "      ... Postal Code  Region       Product ID         Category Sub-Category  \\\n",
      "0     ...       42420   South  FUR-BO-10001798        Furniture    Bookcases   \n",
      "1     ...       42420   South  FUR-CH-10000454        Furniture       Chairs   \n",
      "2     ...       90036    West  OFF-LA-10000240  Office Supplies       Labels   \n",
      "3     ...       33311   South  FUR-TA-10000577        Furniture       Tables   \n",
      "4     ...       33311   South  OFF-ST-10000760  Office Supplies      Storage   \n",
      "...   ...         ...     ...              ...              ...          ...   \n",
      "9989  ...       33180   South  FUR-FU-10001889        Furniture  Furnishings   \n",
      "9990  ...       92627    West  FUR-FU-10000747        Furniture  Furnishings   \n",
      "9991  ...       92627    West  TEC-PH-10003645       Technology       Phones   \n",
      "9992  ...       92627    West  OFF-PA-10004041  Office Supplies        Paper   \n",
      "9993  ...       92683    West  OFF-AP-10002684  Office Supplies   Appliances   \n",
      "\n",
      "                                           Product Name     Sales  Quantity  \\\n",
      "0                     Bush Somerset Collection Bookcase  261.9600         2   \n",
      "1     Hon Deluxe Fabric Upholstered Stacking Chairs,...  731.9400         3   \n",
      "2     Self-Adhesive Address Labels for Typewriters b...   14.6200         2   \n",
      "3         Bretford CR4500 Series Slim Rectangular Table  957.5775         5   \n",
      "4                        Eldon Fold 'N Roll Cart System   22.3680         2   \n",
      "...                                                 ...       ...       ...   \n",
      "9989                             Ultra Door Pull Handle   25.2480         3   \n",
      "9990  Tenex B1-RE Series Chair Mats for Low Pile Car...   91.9600         2   \n",
      "9991                              Aastra 57i VoIP phone  258.5760         2   \n",
      "9992  It's Hot Message Books with Stickers, 2 3/4\" x 5\"   29.6000         4   \n",
      "9993  Acco 7-Outlet Masterpiece Power Center, Wihtou...  243.1600         2   \n",
      "\n",
      "      Discount    Profit  \n",
      "0         0.00   41.9136  \n",
      "1         0.00  219.5820  \n",
      "2         0.00    6.8714  \n",
      "3         0.45 -383.0310  \n",
      "4         0.20    2.5164  \n",
      "...        ...       ...  \n",
      "9989      0.20    4.1028  \n",
      "9990      0.00   15.6332  \n",
      "9991      0.20   19.3932  \n",
      "9992      0.00   13.3200  \n",
      "9993      0.00   72.9480  \n",
      "\n",
      "[9994 rows x 21 columns]\n"
     ]
    }
   ],
   "source": [
    "# Check the data\n",
    "print(data)"
   ]
  },
  {
   "cell_type": "code",
   "execution_count": 23,
   "id": "c50b43a2",
   "metadata": {},
   "outputs": [
    {
     "name": "stdout",
     "output_type": "stream",
     "text": [
      "            Order ID                                       Product Name\n",
      "0     CA-2016-152156                  Bush Somerset Collection Bookcase\n",
      "1     CA-2016-152156  Hon Deluxe Fabric Upholstered Stacking Chairs,...\n",
      "2     CA-2016-138688  Self-Adhesive Address Labels for Typewriters b...\n",
      "3     US-2015-108966      Bretford CR4500 Series Slim Rectangular Table\n",
      "4     US-2015-108966                     Eldon Fold 'N Roll Cart System\n",
      "...              ...                                                ...\n",
      "9989  CA-2014-110422                             Ultra Door Pull Handle\n",
      "9990  CA-2017-121258  Tenex B1-RE Series Chair Mats for Low Pile Car...\n",
      "9991  CA-2017-121258                              Aastra 57i VoIP phone\n",
      "9992  CA-2017-121258  It's Hot Message Books with Stickers, 2 3/4\" x 5\"\n",
      "9993  CA-2017-119914  Acco 7-Outlet Masterpiece Power Center, Wihtou...\n",
      "\n",
      "[9994 rows x 2 columns]\n"
     ]
    }
   ],
   "source": [
    "# Include the relevant columns\n",
    "subset_data = data[['Order ID', 'Product Name']]\n",
    "\n",
    "print(subset_data)"
   ]
  },
  {
   "cell_type": "code",
   "execution_count": 26,
   "id": "fd06c21d",
   "metadata": {},
   "outputs": [
    {
     "name": "stdout",
     "output_type": "stream",
     "text": [
      "      Order ID_CA-2014-100006  Order ID_CA-2014-100090  \\\n",
      "0                           0                        0   \n",
      "1                           0                        0   \n",
      "2                           0                        0   \n",
      "3                           0                        0   \n",
      "4                           0                        0   \n",
      "...                       ...                      ...   \n",
      "9989                        0                        0   \n",
      "9990                        0                        0   \n",
      "9991                        0                        0   \n",
      "9992                        0                        0   \n",
      "9993                        0                        0   \n",
      "\n",
      "      Order ID_CA-2014-100293  Order ID_CA-2014-100328  \\\n",
      "0                           0                        0   \n",
      "1                           0                        0   \n",
      "2                           0                        0   \n",
      "3                           0                        0   \n",
      "4                           0                        0   \n",
      "...                       ...                      ...   \n",
      "9989                        0                        0   \n",
      "9990                        0                        0   \n",
      "9991                        0                        0   \n",
      "9992                        0                        0   \n",
      "9993                        0                        0   \n",
      "\n",
      "      Order ID_CA-2014-100363  Order ID_CA-2014-100391  \\\n",
      "0                           0                        0   \n",
      "1                           0                        0   \n",
      "2                           0                        0   \n",
      "3                           0                        0   \n",
      "4                           0                        0   \n",
      "...                       ...                      ...   \n",
      "9989                        0                        0   \n",
      "9990                        0                        0   \n",
      "9991                        0                        0   \n",
      "9992                        0                        0   \n",
      "9993                        0                        0   \n",
      "\n",
      "      Order ID_CA-2014-100678  Order ID_CA-2014-100706  \\\n",
      "0                           0                        0   \n",
      "1                           0                        0   \n",
      "2                           0                        0   \n",
      "3                           0                        0   \n",
      "4                           0                        0   \n",
      "...                       ...                      ...   \n",
      "9989                        0                        0   \n",
      "9990                        0                        0   \n",
      "9991                        0                        0   \n",
      "9992                        0                        0   \n",
      "9993                        0                        0   \n",
      "\n",
      "      Order ID_CA-2014-100762  Order ID_CA-2014-100860  ...  \\\n",
      "0                           0                        0  ...   \n",
      "1                           0                        0  ...   \n",
      "2                           0                        0  ...   \n",
      "3                           0                        0  ...   \n",
      "4                           0                        0  ...   \n",
      "...                       ...                      ...  ...   \n",
      "9989                        0                        0  ...   \n",
      "9990                        0                        0  ...   \n",
      "9991                        0                        0  ...   \n",
      "9992                        0                        0  ...   \n",
      "9993                        0                        0  ...   \n",
      "\n",
      "      Product Name_Zebra ZM400 Thermal Label Printer  \\\n",
      "0                                                  0   \n",
      "1                                                  0   \n",
      "2                                                  0   \n",
      "3                                                  0   \n",
      "4                                                  0   \n",
      "...                                              ...   \n",
      "9989                                               0   \n",
      "9990                                               0   \n",
      "9991                                               0   \n",
      "9992                                               0   \n",
      "9993                                               0   \n",
      "\n",
      "      Product Name_Zebra Zazzle Fluorescent Highlighters  \\\n",
      "0                                                     0    \n",
      "1                                                     0    \n",
      "2                                                     0    \n",
      "3                                                     0    \n",
      "4                                                     0    \n",
      "...                                                 ...    \n",
      "9989                                                  0    \n",
      "9990                                                  0    \n",
      "9991                                                  0    \n",
      "9992                                                  0    \n",
      "9993                                                  0    \n",
      "\n",
      "      Product Name_Zipper Ring Binder Pockets  \\\n",
      "0                                           0   \n",
      "1                                           0   \n",
      "2                                           0   \n",
      "3                                           0   \n",
      "4                                           0   \n",
      "...                                       ...   \n",
      "9989                                        0   \n",
      "9990                                        0   \n",
      "9991                                        0   \n",
      "9992                                        0   \n",
      "9993                                        0   \n",
      "\n",
      "      Product Name_i.Sound Portable Power - 8000 mAh  \\\n",
      "0                                                  0   \n",
      "1                                                  0   \n",
      "2                                                  0   \n",
      "3                                                  0   \n",
      "4                                                  0   \n",
      "...                                              ...   \n",
      "9989                                               0   \n",
      "9990                                               0   \n",
      "9991                                               0   \n",
      "9992                                               0   \n",
      "9993                                               0   \n",
      "\n",
      "      Product Name_iHome FM Clock Radio with Lightning Dock  \\\n",
      "0                                                     0       \n",
      "1                                                     0       \n",
      "2                                                     0       \n",
      "3                                                     0       \n",
      "4                                                     0       \n",
      "...                                                 ...       \n",
      "9989                                                  0       \n",
      "9990                                                  0       \n",
      "9991                                                  0       \n",
      "9992                                                  0       \n",
      "9993                                                  0       \n",
      "\n",
      "      Product Name_iKross Bluetooth Portable Keyboard + Cell Phone Stand Holder + Brush for Apple iPhone 5S 5C 5, 4S 4  \\\n",
      "0                                                     0                                                                  \n",
      "1                                                     0                                                                  \n",
      "2                                                     0                                                                  \n",
      "3                                                     0                                                                  \n",
      "4                                                     0                                                                  \n",
      "...                                                 ...                                                                  \n",
      "9989                                                  0                                                                  \n",
      "9990                                                  0                                                                  \n",
      "9991                                                  0                                                                  \n",
      "9992                                                  0                                                                  \n",
      "9993                                                  0                                                                  \n",
      "\n",
      "      Product Name_iOttie HLCRIO102 Car Mount  \\\n",
      "0                                           0   \n",
      "1                                           0   \n",
      "2                                           0   \n",
      "3                                           0   \n",
      "4                                           0   \n",
      "...                                       ...   \n",
      "9989                                        0   \n",
      "9990                                        0   \n",
      "9991                                        0   \n",
      "9992                                        0   \n",
      "9993                                        0   \n",
      "\n",
      "      Product Name_iOttie XL Car Mount  \\\n",
      "0                                    0   \n",
      "1                                    0   \n",
      "2                                    0   \n",
      "3                                    0   \n",
      "4                                    0   \n",
      "...                                ...   \n",
      "9989                                 0   \n",
      "9990                                 0   \n",
      "9991                                 0   \n",
      "9992                                 0   \n",
      "9993                                 0   \n",
      "\n",
      "      Product Name_invisibleSHIELD by ZAGG Smudge-Free Screen Protector  \\\n",
      "0                                                     0                   \n",
      "1                                                     0                   \n",
      "2                                                     0                   \n",
      "3                                                     0                   \n",
      "4                                                     0                   \n",
      "...                                                 ...                   \n",
      "9989                                                  0                   \n",
      "9990                                                  0                   \n",
      "9991                                                  0                   \n",
      "9992                                                  0                   \n",
      "9993                                                  0                   \n",
      "\n",
      "      Product Name_netTALK DUO VoIP Telephone Service  \n",
      "0                                                   0  \n",
      "1                                                   0  \n",
      "2                                                   0  \n",
      "3                                                   0  \n",
      "4                                                   0  \n",
      "...                                               ...  \n",
      "9989                                                0  \n",
      "9990                                                0  \n",
      "9991                                                0  \n",
      "9992                                                0  \n",
      "9993                                                0  \n",
      "\n",
      "[9994 rows x 6859 columns]\n"
     ]
    }
   ],
   "source": [
    "# Encode the data\n",
    "encoded_data = pd.get_dummies(subset_data)\n",
    "\n",
    "print(encoded_data)"
   ]
  },
  {
   "cell_type": "code",
   "execution_count": 50,
   "id": "f4736109",
   "metadata": {},
   "outputs": [
    {
     "name": "stderr",
     "output_type": "stream",
     "text": [
      "C:\\Users\\Teresa - School\\anaconda3\\envs\\mlenv\\lib\\site-packages\\mlxtend\\frequent_patterns\\fpcommon.py:115: DeprecationWarning: DataFrames with non-bool types result in worse computationalperformance and their support might be discontinued in the future.Please use a DataFrame with bool type\n",
      "  DeprecationWarning,\n"
     ]
    }
   ],
   "source": [
    "# Generate the frequent item sets that have a certain minimum support level\n",
    "frequent_itemsets = apriori(encoded_data, min_support=0.004, use_colnames=True)"
   ]
  },
  {
   "cell_type": "code",
   "execution_count": 51,
   "id": "9cfaf602",
   "metadata": {},
   "outputs": [
    {
     "name": "stdout",
     "output_type": "stream",
     "text": [
      "    support                          itemsets\n",
      "0  0.004603  (Product Name_Easy-staple paper)\n",
      "1  0.004803    (Product Name_Staple envelope)\n",
      "2  0.004603            (Product Name_Staples)\n"
     ]
    }
   ],
   "source": [
    "# Check the results\n",
    "print(frequent_itemsets)"
   ]
  },
  {
   "cell_type": "code",
   "execution_count": 53,
   "id": "3967cf19",
   "metadata": {},
   "outputs": [
    {
     "name": "stderr",
     "output_type": "stream",
     "text": [
      "C:\\Users\\Teresa - School\\anaconda3\\envs\\mlenv\\lib\\site-packages\\mlxtend\\frequent_patterns\\fpcommon.py:115: DeprecationWarning: DataFrames with non-bool types result in worse computationalperformance and their support might be discontinued in the future.Please use a DataFrame with bool type\n",
      "  DeprecationWarning,\n"
     ]
    }
   ],
   "source": [
    "# Generate the frequent item sets that have a certain minimum support level\n",
    "frequent_itemsets2 = apriori(encoded_data, min_support=0.003, use_colnames=True)"
   ]
  },
  {
   "cell_type": "code",
   "execution_count": 54,
   "id": "9b3df904",
   "metadata": {},
   "outputs": [
    {
     "name": "stdout",
     "output_type": "stream",
     "text": [
      "    support                          itemsets\n",
      "0  0.004603  (Product Name_Easy-staple paper)\n",
      "1  0.004803    (Product Name_Staple envelope)\n",
      "2  0.004603            (Product Name_Staples)\n"
     ]
    }
   ],
   "source": [
    "# Check the results\n",
    "print(frequent_itemsets2)"
   ]
  },
  {
   "cell_type": "code",
   "execution_count": 56,
   "id": "5df4e808",
   "metadata": {},
   "outputs": [
    {
     "name": "stderr",
     "output_type": "stream",
     "text": [
      "C:\\Users\\Teresa - School\\anaconda3\\envs\\mlenv\\lib\\site-packages\\mlxtend\\frequent_patterns\\fpcommon.py:115: DeprecationWarning: DataFrames with non-bool types result in worse computationalperformance and their support might be discontinued in the future.Please use a DataFrame with bool type\n",
      "  DeprecationWarning,\n"
     ]
    }
   ],
   "source": [
    "# Generate the frequent item sets that have a certain minimum support level\n",
    "frequent_itemsets3 = apriori(encoded_data, min_support=0.002, use_colnames=True)"
   ]
  },
  {
   "cell_type": "code",
   "execution_count": 57,
   "id": "48f7a97b",
   "metadata": {},
   "outputs": [
    {
     "name": "stdout",
     "output_type": "stream",
     "text": [
      "    support                                itemsets\n",
      "0  0.002001  (Product Name_Avery Non-Stick Binders)\n",
      "1  0.004603        (Product Name_Easy-staple paper)\n",
      "2  0.004803          (Product Name_Staple envelope)\n",
      "3  0.004603                  (Product Name_Staples)\n"
     ]
    }
   ],
   "source": [
    "# Check the results\n",
    "print(frequent_itemsets3)"
   ]
  },
  {
   "cell_type": "code",
   "execution_count": 102,
   "id": "439cd380",
   "metadata": {},
   "outputs": [
    {
     "name": "stderr",
     "output_type": "stream",
     "text": [
      "C:\\Users\\Teresa - School\\anaconda3\\envs\\mlenv\\lib\\site-packages\\mlxtend\\frequent_patterns\\fpcommon.py:115: DeprecationWarning: DataFrames with non-bool types result in worse computationalperformance and their support might be discontinued in the future.Please use a DataFrame with bool type\n",
      "  DeprecationWarning,\n"
     ]
    }
   ],
   "source": [
    "# Generate the frequent item sets that have a certain minimum support level\n",
    "frequent_itemsets4 = apriori(encoded_data, min_support=0.0006, use_colnames=True)"
   ]
  },
  {
   "cell_type": "code",
   "execution_count": 103,
   "id": "d8703b20",
   "metadata": {},
   "outputs": [
    {
     "name": "stdout",
     "output_type": "stream",
     "text": [
      "      support                                           itemsets\n",
      "0    0.000700                          (Order ID_CA-2014-103989)\n",
      "1    0.000901                          (Order ID_CA-2014-106439)\n",
      "2    0.000700                          (Order ID_CA-2014-108189)\n",
      "3    0.000700                          (Order ID_CA-2014-110786)\n",
      "4    0.000700                          (Order ID_CA-2014-115812)\n",
      "..        ...                                                ...\n",
      "954  0.001001  (Product Name_XtraLife ClearVue Slant-D Ring B...\n",
      "955  0.000600  (Product Name_Zebra Zazzle Fluorescent Highlig...\n",
      "956  0.001301          (Product Name_Zipper Ring Binder Pockets)\n",
      "957  0.000700  (Product Name_invisibleSHIELD by ZAGG Smudge-F...\n",
      "958  0.000700  (Product Name_netTALK DUO VoIP Telephone Service)\n",
      "\n",
      "[959 rows x 2 columns]\n"
     ]
    }
   ],
   "source": [
    "# Check the results\n",
    "print(frequent_itemsets4)"
   ]
  },
  {
   "cell_type": "code",
   "execution_count": 108,
   "id": "6d9666c5",
   "metadata": {},
   "outputs": [
    {
     "name": "stderr",
     "output_type": "stream",
     "text": [
      "C:\\Users\\Teresa - School\\anaconda3\\envs\\mlenv\\lib\\site-packages\\mlxtend\\frequent_patterns\\fpcommon.py:115: DeprecationWarning: DataFrames with non-bool types result in worse computationalperformance and their support might be discontinued in the future.Please use a DataFrame with bool type\n",
      "  DeprecationWarning,\n"
     ]
    }
   ],
   "source": [
    "# Generate the frequent item sets that have a certain minimum support level\n",
    "frequent_itemsets5 = apriori(encoded_data, min_support=0.0005, use_colnames=True)"
   ]
  },
  {
   "cell_type": "code",
   "execution_count": 112,
   "id": "2065edc7",
   "metadata": {},
   "outputs": [
    {
     "name": "stdout",
     "output_type": "stream",
     "text": [
      "      support                                           itemsets\n",
      "0      0.0005                          (Order ID_CA-2014-101931)\n",
      "1      0.0005                          (Order ID_CA-2014-102988)\n",
      "2      0.0007                          (Order ID_CA-2014-103989)\n",
      "3      0.0005                          (Order ID_CA-2014-104738)\n",
      "4      0.0005                          (Order ID_CA-2014-105165)\n",
      "...       ...                                                ...\n",
      "1396   0.0005  (Product Name_iHome FM Clock Radio with Lightn...\n",
      "1397   0.0005  (Product Name_iKross Bluetooth Portable Keyboa...\n",
      "1398   0.0005          (Product Name_iOttie HLCRIO102 Car Mount)\n",
      "1399   0.0007  (Product Name_invisibleSHIELD by ZAGG Smudge-F...\n",
      "1400   0.0007  (Product Name_netTALK DUO VoIP Telephone Service)\n",
      "\n",
      "[1401 rows x 2 columns]\n"
     ]
    }
   ],
   "source": [
    "print(frequent_itemsets5)"
   ]
  },
  {
   "cell_type": "code",
   "execution_count": 109,
   "id": "2bf5e0fa",
   "metadata": {},
   "outputs": [],
   "source": [
    "# Generate association rules that have a minimum confidence of 0.7 using the selected frequent item sets\n",
    "rules = association_rules(frequent_itemsets4, metric=\"confidence\", min_threshold=0.7)"
   ]
  },
  {
   "cell_type": "code",
   "execution_count": 110,
   "id": "3923450e",
   "metadata": {},
   "outputs": [
    {
     "name": "stdout",
     "output_type": "stream",
     "text": [
      "Empty DataFrame\n",
      "Columns: [antecedents, consequents, antecedent support, consequent support, support, confidence, lift, leverage, conviction]\n",
      "Index: []\n"
     ]
    }
   ],
   "source": [
    "# Print the results\n",
    "print(rules)"
   ]
  },
  {
   "cell_type": "code",
   "execution_count": 117,
   "id": "b0609e98",
   "metadata": {},
   "outputs": [],
   "source": [
    "# Generate association rules that have a certain minimum confidence level using the selected frequent item sets\n",
    "rules2 = association_rules(frequent_itemsets5, metric=\"confidence\", min_threshold=0.001)"
   ]
  },
  {
   "cell_type": "code",
   "execution_count": 118,
   "id": "0c7fb4c3",
   "metadata": {},
   "outputs": [
    {
     "name": "stdout",
     "output_type": "stream",
     "text": [
      "Empty DataFrame\n",
      "Columns: [antecedents, consequents, antecedent support, consequent support, support, confidence, lift, leverage, conviction]\n",
      "Index: []\n"
     ]
    }
   ],
   "source": [
    "# Print the results\n",
    "print(rules2)"
   ]
  },
  {
   "cell_type": "code",
   "execution_count": 128,
   "id": "491563cf",
   "metadata": {},
   "outputs": [
    {
     "name": "stdout",
     "output_type": "stream",
     "text": [
      "            Order ID Sub-Category\n",
      "0     CA-2016-152156    Bookcases\n",
      "1     CA-2016-152156       Chairs\n",
      "2     CA-2016-138688       Labels\n",
      "3     US-2015-108966       Tables\n",
      "4     US-2015-108966      Storage\n",
      "...              ...          ...\n",
      "9989  CA-2014-110422  Furnishings\n",
      "9990  CA-2017-121258  Furnishings\n",
      "9991  CA-2017-121258       Phones\n",
      "9992  CA-2017-121258        Paper\n",
      "9993  CA-2017-119914   Appliances\n",
      "\n",
      "[9994 rows x 2 columns]\n"
     ]
    }
   ],
   "source": [
    "# Include the relevant columns\n",
    "subset_data2 = data[['Order ID', 'Sub-Category']]\n",
    "\n",
    "print(subset_data2)"
   ]
  },
  {
   "cell_type": "code",
   "execution_count": 130,
   "id": "c539d6a6",
   "metadata": {},
   "outputs": [
    {
     "name": "stdout",
     "output_type": "stream",
     "text": [
      "      Order ID_CA-2014-100006  Order ID_CA-2014-100090  \\\n",
      "0                           0                        0   \n",
      "1                           0                        0   \n",
      "2                           0                        0   \n",
      "3                           0                        0   \n",
      "4                           0                        0   \n",
      "...                       ...                      ...   \n",
      "9989                        0                        0   \n",
      "9990                        0                        0   \n",
      "9991                        0                        0   \n",
      "9992                        0                        0   \n",
      "9993                        0                        0   \n",
      "\n",
      "      Order ID_CA-2014-100293  Order ID_CA-2014-100328  \\\n",
      "0                           0                        0   \n",
      "1                           0                        0   \n",
      "2                           0                        0   \n",
      "3                           0                        0   \n",
      "4                           0                        0   \n",
      "...                       ...                      ...   \n",
      "9989                        0                        0   \n",
      "9990                        0                        0   \n",
      "9991                        0                        0   \n",
      "9992                        0                        0   \n",
      "9993                        0                        0   \n",
      "\n",
      "      Order ID_CA-2014-100363  Order ID_CA-2014-100391  \\\n",
      "0                           0                        0   \n",
      "1                           0                        0   \n",
      "2                           0                        0   \n",
      "3                           0                        0   \n",
      "4                           0                        0   \n",
      "...                       ...                      ...   \n",
      "9989                        0                        0   \n",
      "9990                        0                        0   \n",
      "9991                        0                        0   \n",
      "9992                        0                        0   \n",
      "9993                        0                        0   \n",
      "\n",
      "      Order ID_CA-2014-100678  Order ID_CA-2014-100706  \\\n",
      "0                           0                        0   \n",
      "1                           0                        0   \n",
      "2                           0                        0   \n",
      "3                           0                        0   \n",
      "4                           0                        0   \n",
      "...                       ...                      ...   \n",
      "9989                        0                        0   \n",
      "9990                        0                        0   \n",
      "9991                        0                        0   \n",
      "9992                        0                        0   \n",
      "9993                        0                        0   \n",
      "\n",
      "      Order ID_CA-2014-100762  Order ID_CA-2014-100860  ...  \\\n",
      "0                           0                        0  ...   \n",
      "1                           0                        0  ...   \n",
      "2                           0                        0  ...   \n",
      "3                           0                        0  ...   \n",
      "4                           0                        0  ...   \n",
      "...                       ...                      ...  ...   \n",
      "9989                        0                        0  ...   \n",
      "9990                        0                        0  ...   \n",
      "9991                        0                        0  ...   \n",
      "9992                        0                        0  ...   \n",
      "9993                        0                        0  ...   \n",
      "\n",
      "      Sub-Category_Envelopes  Sub-Category_Fasteners  \\\n",
      "0                          0                       0   \n",
      "1                          0                       0   \n",
      "2                          0                       0   \n",
      "3                          0                       0   \n",
      "4                          0                       0   \n",
      "...                      ...                     ...   \n",
      "9989                       0                       0   \n",
      "9990                       0                       0   \n",
      "9991                       0                       0   \n",
      "9992                       0                       0   \n",
      "9993                       0                       0   \n",
      "\n",
      "      Sub-Category_Furnishings  Sub-Category_Labels  Sub-Category_Machines  \\\n",
      "0                            0                    0                      0   \n",
      "1                            0                    0                      0   \n",
      "2                            0                    1                      0   \n",
      "3                            0                    0                      0   \n",
      "4                            0                    0                      0   \n",
      "...                        ...                  ...                    ...   \n",
      "9989                         1                    0                      0   \n",
      "9990                         1                    0                      0   \n",
      "9991                         0                    0                      0   \n",
      "9992                         0                    0                      0   \n",
      "9993                         0                    0                      0   \n",
      "\n",
      "      Sub-Category_Paper  Sub-Category_Phones  Sub-Category_Storage  \\\n",
      "0                      0                    0                     0   \n",
      "1                      0                    0                     0   \n",
      "2                      0                    0                     0   \n",
      "3                      0                    0                     0   \n",
      "4                      0                    0                     1   \n",
      "...                  ...                  ...                   ...   \n",
      "9989                   0                    0                     0   \n",
      "9990                   0                    0                     0   \n",
      "9991                   0                    1                     0   \n",
      "9992                   1                    0                     0   \n",
      "9993                   0                    0                     0   \n",
      "\n",
      "      Sub-Category_Supplies  Sub-Category_Tables  \n",
      "0                         0                    0  \n",
      "1                         0                    0  \n",
      "2                         0                    0  \n",
      "3                         0                    1  \n",
      "4                         0                    0  \n",
      "...                     ...                  ...  \n",
      "9989                      0                    0  \n",
      "9990                      0                    0  \n",
      "9991                      0                    0  \n",
      "9992                      0                    0  \n",
      "9993                      0                    0  \n",
      "\n",
      "[9994 rows x 5026 columns]\n"
     ]
    }
   ],
   "source": [
    "# Encode the data\n",
    "encoded_data2 = pd.get_dummies(subset_data2)\n",
    "\n",
    "print(encoded_data2)"
   ]
  },
  {
   "cell_type": "code",
   "execution_count": 131,
   "id": "c6f70a41",
   "metadata": {},
   "outputs": [
    {
     "name": "stderr",
     "output_type": "stream",
     "text": [
      "C:\\Users\\Teresa - School\\anaconda3\\envs\\mlenv\\lib\\site-packages\\mlxtend\\frequent_patterns\\fpcommon.py:115: DeprecationWarning: DataFrames with non-bool types result in worse computationalperformance and their support might be discontinued in the future.Please use a DataFrame with bool type\n",
      "  DeprecationWarning,\n"
     ]
    }
   ],
   "source": [
    "# Generate the frequent item sets that have a certain minimum support level\n",
    "frequent_itemsets_2 = apriori(encoded_data2, min_support=0.05, use_colnames=True)"
   ]
  },
  {
   "cell_type": "code",
   "execution_count": 132,
   "id": "8f6a5bb0",
   "metadata": {},
   "outputs": [
    {
     "name": "stdout",
     "output_type": "stream",
     "text": [
      "    support                    itemsets\n",
      "0  0.077547  (Sub-Category_Accessories)\n",
      "1  0.079648          (Sub-Category_Art)\n",
      "2  0.152391      (Sub-Category_Binders)\n",
      "3  0.061737       (Sub-Category_Chairs)\n",
      "4  0.095757  (Sub-Category_Furnishings)\n",
      "5  0.137082        (Sub-Category_Paper)\n",
      "6  0.088953       (Sub-Category_Phones)\n",
      "7  0.084651      (Sub-Category_Storage)\n"
     ]
    }
   ],
   "source": [
    "# Check the results\n",
    "print(frequent_itemsets_2)"
   ]
  },
  {
   "cell_type": "code",
   "execution_count": 133,
   "id": "5c2b7bf6",
   "metadata": {},
   "outputs": [],
   "source": [
    "# Generate association rules that have a minimum confidence of 0.7 using the selected frequent item sets\n",
    "rules2 = association_rules(frequent_itemsets_2, metric=\"confidence\", min_threshold=0.7)"
   ]
  },
  {
   "cell_type": "code",
   "execution_count": 134,
   "id": "6cecf98b",
   "metadata": {},
   "outputs": [
    {
     "name": "stdout",
     "output_type": "stream",
     "text": [
      "Empty DataFrame\n",
      "Columns: [antecedents, consequents, antecedent support, consequent support, support, confidence, lift, leverage, conviction]\n",
      "Index: []\n"
     ]
    }
   ],
   "source": [
    "# Check the results \n",
    "print(rules2)"
   ]
  }
 ],
 "metadata": {
  "kernelspec": {
   "display_name": "mlenv",
   "language": "python",
   "name": "mlenv"
  },
  "language_info": {
   "codemirror_mode": {
    "name": "ipython",
    "version": 3
   },
   "file_extension": ".py",
   "mimetype": "text/x-python",
   "name": "python",
   "nbconvert_exporter": "python",
   "pygments_lexer": "ipython3",
   "version": "3.7.15"
  }
 },
 "nbformat": 4,
 "nbformat_minor": 5
}
